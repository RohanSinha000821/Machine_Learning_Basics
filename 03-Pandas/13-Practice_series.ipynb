{
 "cells": [
  {
   "cell_type": "markdown",
   "id": "20276eaa",
   "metadata": {},
   "source": [
    "## Series part 1"
   ]
  },
  {
   "cell_type": "code",
   "execution_count": 5,
   "id": "5c4191df",
   "metadata": {},
   "outputs": [],
   "source": [
    "import numpy as np\n",
    "import pandas as pd"
   ]
  },
  {
   "cell_type": "code",
   "execution_count": 3,
   "id": "786c3883",
   "metadata": {},
   "outputs": [],
   "source": [
    "# help(pd.Series)"
   ]
  },
  {
   "cell_type": "code",
   "execution_count": 1,
   "id": "45842dab",
   "metadata": {},
   "outputs": [],
   "source": [
    "myindex = ['USA','Canada','Mexico']"
   ]
  },
  {
   "cell_type": "code",
   "execution_count": 2,
   "id": "b0bf135f",
   "metadata": {},
   "outputs": [],
   "source": [
    "mydata = [1776,1867,1821]"
   ]
  },
  {
   "cell_type": "code",
   "execution_count": 18,
   "id": "b8b99fc7",
   "metadata": {},
   "outputs": [],
   "source": [
    "myser = pd.Series(data = mydata,index = myindex)\n",
    "# OR\n",
    "myser = pd.Series(mydata,myindex)"
   ]
  },
  {
   "cell_type": "code",
   "execution_count": 19,
   "id": "e946dd98",
   "metadata": {
    "scrolled": true
   },
   "outputs": [
    {
     "data": {
      "text/plain": [
       "USA       1776\n",
       "Canada    1867\n",
       "Mexico    1821\n",
       "dtype: int64"
      ]
     },
     "execution_count": 19,
     "metadata": {},
     "output_type": "execute_result"
    }
   ],
   "source": [
    "myser"
   ]
  },
  {
   "cell_type": "code",
   "execution_count": 20,
   "id": "f1e16c8c",
   "metadata": {},
   "outputs": [
    {
     "name": "stdout",
     "output_type": "stream",
     "text": [
      "1776\n"
     ]
    },
    {
     "data": {
      "text/plain": [
       "1776"
      ]
     },
     "execution_count": 20,
     "metadata": {},
     "output_type": "execute_result"
    }
   ],
   "source": [
    "print(myser[0])\n",
    "myser['USA']"
   ]
  },
  {
   "cell_type": "code",
   "execution_count": 21,
   "id": "231deaab",
   "metadata": {},
   "outputs": [],
   "source": [
    "ages = {'Rohan':21,'Rahul':29,'Tarun':25}"
   ]
  },
  {
   "cell_type": "code",
   "execution_count": 23,
   "id": "6e041450",
   "metadata": {},
   "outputs": [
    {
     "data": {
      "text/plain": [
       "Rohan    21\n",
       "Rahul    29\n",
       "Tarun    25\n",
       "dtype: int64"
      ]
     },
     "execution_count": 23,
     "metadata": {},
     "output_type": "execute_result"
    }
   ],
   "source": [
    "pd.Series(ages)"
   ]
  },
  {
   "cell_type": "markdown",
   "id": "c53a649f",
   "metadata": {},
   "source": [
    "## Series part 2"
   ]
  },
  {
   "cell_type": "code",
   "execution_count": 24,
   "id": "7bb49010",
   "metadata": {},
   "outputs": [],
   "source": [
    "# Imaginary Sales Data for 1st and 2nd Quarters for Global Company\n",
    "q1 = {'Japan': 80, 'China': 450, 'India': 200, 'USA': 250}\n",
    "q2 = {'Brazil': 100,'China': 500, 'India': 210,'USA': 260}"
   ]
  },
  {
   "cell_type": "code",
   "execution_count": 25,
   "id": "97a615d2",
   "metadata": {},
   "outputs": [],
   "source": [
    "sales_q1 = pd.Series(q1)\n",
    "sales_q2 = pd.Series(q2)"
   ]
  },
  {
   "cell_type": "code",
   "execution_count": 27,
   "id": "e6ae3fa1",
   "metadata": {},
   "outputs": [
    {
     "name": "stdout",
     "output_type": "stream",
     "text": [
      "Japan     80\n",
      "China    450\n",
      "India    200\n",
      "USA      250\n",
      "dtype: int64\n",
      "\n",
      "Brazil    100\n",
      "China     500\n",
      "India     210\n",
      "USA       260\n",
      "dtype: int64\n"
     ]
    }
   ],
   "source": [
    "print(sales_q1)\n",
    "print()\n",
    "print(sales_q2)"
   ]
  },
  {
   "cell_type": "code",
   "execution_count": 28,
   "id": "7b6854ee",
   "metadata": {},
   "outputs": [
    {
     "data": {
      "text/plain": [
       "Index(['Japan', 'China', 'India', 'USA'], dtype='object')"
      ]
     },
     "execution_count": 28,
     "metadata": {},
     "output_type": "execute_result"
    }
   ],
   "source": [
    "sales_q1.keys()"
   ]
  },
  {
   "cell_type": "code",
   "execution_count": 29,
   "id": "03f7fdbc",
   "metadata": {},
   "outputs": [
    {
     "data": {
      "text/plain": [
       "[1, 2, 1, 2]"
      ]
     },
     "execution_count": 29,
     "metadata": {},
     "output_type": "execute_result"
    }
   ],
   "source": [
    "[1,2]*2"
   ]
  },
  {
   "cell_type": "code",
   "execution_count": 30,
   "id": "75593a64",
   "metadata": {},
   "outputs": [
    {
     "data": {
      "text/plain": [
       "array([2, 4])"
      ]
     },
     "execution_count": 30,
     "metadata": {},
     "output_type": "execute_result"
    }
   ],
   "source": [
    "np.array([1,2])*2"
   ]
  },
  {
   "cell_type": "code",
   "execution_count": 31,
   "id": "466c0932",
   "metadata": {},
   "outputs": [
    {
     "data": {
      "text/plain": [
       "Japan    160\n",
       "China    900\n",
       "India    400\n",
       "USA      500\n",
       "dtype: int64"
      ]
     },
     "execution_count": 31,
     "metadata": {},
     "output_type": "execute_result"
    }
   ],
   "source": [
    "sales_q1*2 #Same as numpy array not as list "
   ]
  },
  {
   "cell_type": "code",
   "execution_count": 33,
   "id": "43316daa",
   "metadata": {},
   "outputs": [
    {
     "data": {
      "text/plain": [
       "Brazil      NaN\n",
       "China     950.0\n",
       "India     410.0\n",
       "Japan       NaN\n",
       "USA       510.0\n",
       "dtype: float64"
      ]
     },
     "execution_count": 33,
     "metadata": {},
     "output_type": "execute_result"
    }
   ],
   "source": [
    "sales_q1+sales_q2"
   ]
  },
  {
   "cell_type": "code",
   "execution_count": 34,
   "id": "dd4bf282",
   "metadata": {},
   "outputs": [
    {
     "data": {
      "text/plain": [
       "Brazil    100.0\n",
       "China     950.0\n",
       "India     410.0\n",
       "Japan      80.0\n",
       "USA       510.0\n",
       "dtype: float64"
      ]
     },
     "execution_count": 34,
     "metadata": {},
     "output_type": "execute_result"
    }
   ],
   "source": [
    "sales_q1.add(sales_q2,fill_value = 0)"
   ]
  },
  {
   "cell_type": "code",
   "execution_count": 36,
   "id": "d0c39fe8",
   "metadata": {},
   "outputs": [
    {
     "data": {
      "text/plain": [
       "dtype('int64')"
      ]
     },
     "execution_count": 36,
     "metadata": {},
     "output_type": "execute_result"
    }
   ],
   "source": [
    "sales_q1.dtype"
   ]
  },
  {
   "cell_type": "code",
   "execution_count": 37,
   "id": "d51cdc01",
   "metadata": {},
   "outputs": [
    {
     "data": {
      "text/plain": [
       "dtype('float64')"
      ]
     },
     "execution_count": 37,
     "metadata": {},
     "output_type": "execute_result"
    }
   ],
   "source": [
    "sales_q1.add(sales_q2,fill_value = 0).dtype # Pandas operation converts dtype to float"
   ]
  }
 ],
 "metadata": {
  "kernelspec": {
   "display_name": "Python 3 (ipykernel)",
   "language": "python",
   "name": "python3"
  },
  "language_info": {
   "codemirror_mode": {
    "name": "ipython",
    "version": 3
   },
   "file_extension": ".py",
   "mimetype": "text/x-python",
   "name": "python",
   "nbconvert_exporter": "python",
   "pygments_lexer": "ipython3",
   "version": "3.10.8"
  }
 },
 "nbformat": 4,
 "nbformat_minor": 5
}
