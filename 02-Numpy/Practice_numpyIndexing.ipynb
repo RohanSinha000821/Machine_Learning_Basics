{
 "cells": [
  {
   "cell_type": "code",
   "execution_count": 1,
   "id": "71103581",
   "metadata": {},
   "outputs": [],
   "source": [
    "import numpy as np"
   ]
  },
  {
   "cell_type": "code",
   "execution_count": 3,
   "id": "b74e7d62",
   "metadata": {},
   "outputs": [
    {
     "data": {
      "text/plain": [
       "array([ 0,  1,  2,  3,  4,  5,  6,  7,  8,  9, 10])"
      ]
     },
     "execution_count": 3,
     "metadata": {},
     "output_type": "execute_result"
    }
   ],
   "source": [
    "arr = np.arange(0,11)\n",
    "arr"
   ]
  },
  {
   "cell_type": "code",
   "execution_count": 6,
   "id": "ef67a1f7",
   "metadata": {},
   "outputs": [
    {
     "name": "stdout",
     "output_type": "stream",
     "text": [
      "8\n",
      "[1 2 3 4]\n",
      "[0 1 2 3 4]\n",
      "[0 1 2 3 4]\n",
      "[ 5  6  7  8  9 10]\n",
      "[1 2 3 4]\n",
      "[1 3]\n"
     ]
    }
   ],
   "source": [
    "print(arr[8])\n",
    "print(arr[1:5])\n",
    "print(arr[0:5])\n",
    "print(arr[:5])\n",
    "print(arr[5:])\n",
    "print(arr[1:5:1])\n",
    "print(arr[1:5:2])"
   ]
  },
  {
   "cell_type": "markdown",
   "id": "fa196de2",
   "metadata": {},
   "source": [
    "## Broadcasting "
   ]
  },
  {
   "cell_type": "code",
   "execution_count": 7,
   "id": "35f5f371",
   "metadata": {},
   "outputs": [
    {
     "data": {
      "text/plain": [
       "array([100, 100, 100, 100,   4,   5,   6,   7,   8,   9,  10])"
      ]
     },
     "execution_count": 7,
     "metadata": {},
     "output_type": "execute_result"
    }
   ],
   "source": [
    "arr[:4] = 100\n",
    "arr"
   ]
  },
  {
   "cell_type": "code",
   "execution_count": 8,
   "id": "a1db68c6",
   "metadata": {},
   "outputs": [
    {
     "data": {
      "text/plain": [
       "array([ 0,  1,  2,  3,  4,  5,  6,  7,  8,  9, 10])"
      ]
     },
     "execution_count": 8,
     "metadata": {},
     "output_type": "execute_result"
    }
   ],
   "source": [
    "arr = np.arange(0,11)\n",
    "arr"
   ]
  },
  {
   "cell_type": "code",
   "execution_count": 12,
   "id": "efe789a5",
   "metadata": {},
   "outputs": [
    {
     "name": "stdout",
     "output_type": "stream",
     "text": [
      "[99 99 99 99]\n",
      "[99 99 99 99]\n",
      "[99 99 99 99  4  5  6  7  8  9 10]\n"
     ]
    }
   ],
   "source": [
    "slice_of_arr = arr[0:4]\n",
    "print(slice_of_arr)\n",
    "slice_of_arr[:]= 99   # this array elements points to the location of elements of arr\n",
    "print(slice_of_arr)\n",
    "print(arr)"
   ]
  },
  {
   "cell_type": "code",
   "execution_count": 14,
   "id": "b1c913f8",
   "metadata": {},
   "outputs": [
    {
     "name": "stdout",
     "output_type": "stream",
     "text": [
      "[99 99 99 99  4  5  6  7  8  9 10]\n",
      "[99 99 99 99  4  5  6  7  8  9 10]\n",
      "[100 100 100 100 100 100 100 100 100 100 100]\n",
      "[99 99 99 99  4  5  6  7  8  9 10]\n"
     ]
    }
   ],
   "source": [
    "# How to not affect the original array and copy the contents of array\n",
    "arr_copy = arr.copy()\n",
    "print(arr_copy)\n",
    "print(arr)\n",
    "arr_copy[:] = 100\n",
    "print(arr_copy)\n",
    "print(arr) # original copy do not change"
   ]
  },
  {
   "cell_type": "markdown",
   "id": "6cb73cb3",
   "metadata": {},
   "source": [
    "## Indexing in 2D arrays\n"
   ]
  },
  {
   "cell_type": "code",
   "execution_count": 34,
   "id": "444f1498",
   "metadata": {},
   "outputs": [
    {
     "name": "stdout",
     "output_type": "stream",
     "text": [
      "[[1 2 3]\n",
      " [4 5 6]\n",
      " [7 8 9]]\n",
      "(3, 3)\n",
      "[1 2 3]\n",
      "9\n",
      "9\n"
     ]
    }
   ],
   "source": [
    "array_2d = np.array([[1,2,3],[4,5,6],[7,8,9]])\n",
    "print(array_2d)\n",
    "print(array_2d.shape)\n",
    "print(array_2d[0])\n",
    "print(array_2d[2][2])\n",
    "#  OR\n",
    "print(array_2d[2,2])"
   ]
  },
  {
   "cell_type": "code",
   "execution_count": 37,
   "id": "380623fb",
   "metadata": {},
   "outputs": [
    {
     "name": "stdout",
     "output_type": "stream",
     "text": [
      "[[1 2 3]\n",
      " [4 5 6]]\n",
      "\n",
      "[[2 3]\n",
      " [5 6]]\n",
      "\n",
      "[[4 5 6]]\n"
     ]
    }
   ],
   "source": [
    "# 2D array slicing\n",
    "print(array_2d[:2])\n",
    "print()\n",
    "print(array_2d[:2,1:])\n",
    "print()\n",
    "print(array_2d[:2][1:])"
   ]
  },
  {
   "cell_type": "markdown",
   "id": "7f9be97f",
   "metadata": {},
   "source": [
    "## Conditional Selection"
   ]
  },
  {
   "cell_type": "code",
   "execution_count": 38,
   "id": "82ae28fa",
   "metadata": {},
   "outputs": [
    {
     "data": {
      "text/plain": [
       "array([ 1,  2,  3,  4,  5,  6,  7,  8,  9, 10])"
      ]
     },
     "execution_count": 38,
     "metadata": {},
     "output_type": "execute_result"
    }
   ],
   "source": [
    "arr = np.arange(1,11)\n",
    "arr"
   ]
  },
  {
   "cell_type": "code",
   "execution_count": 39,
   "id": "f3e1cc01",
   "metadata": {},
   "outputs": [
    {
     "data": {
      "text/plain": [
       "array([False, False, False, False,  True,  True,  True,  True,  True,\n",
       "        True])"
      ]
     },
     "execution_count": 39,
     "metadata": {},
     "output_type": "execute_result"
    }
   ],
   "source": [
    "arr>4"
   ]
  },
  {
   "cell_type": "code",
   "execution_count": 40,
   "id": "7ea408f4",
   "metadata": {},
   "outputs": [
    {
     "name": "stdout",
     "output_type": "stream",
     "text": [
      "[False False False False  True  True  True  True  True  True]\n"
     ]
    },
    {
     "data": {
      "text/plain": [
       "array([ 5,  6,  7,  8,  9, 10])"
      ]
     },
     "execution_count": 40,
     "metadata": {},
     "output_type": "execute_result"
    }
   ],
   "source": [
    "bool_arr = arr>4\n",
    "print(bool_arr)\n",
    "arr[bool_arr]"
   ]
  },
  {
   "cell_type": "code",
   "execution_count": 41,
   "id": "48332458",
   "metadata": {},
   "outputs": [
    {
     "data": {
      "text/plain": [
       "array([ 5,  6,  7,  8,  9, 10])"
      ]
     },
     "execution_count": 41,
     "metadata": {},
     "output_type": "execute_result"
    }
   ],
   "source": [
    "arr[arr>4]"
   ]
  },
  {
   "cell_type": "code",
   "execution_count": 43,
   "id": "d8f434f2",
   "metadata": {},
   "outputs": [
    {
     "data": {
      "text/plain": [
       "6"
      ]
     },
     "execution_count": 43,
     "metadata": {},
     "output_type": "execute_result"
    }
   ],
   "source": [
    "len(arr[arr>4])"
   ]
  },
  {
   "cell_type": "code",
   "execution_count": null,
   "id": "e54c4ef1",
   "metadata": {},
   "outputs": [],
   "source": []
  }
 ],
 "metadata": {
  "kernelspec": {
   "display_name": "Python 3 (ipykernel)",
   "language": "python",
   "name": "python3"
  },
  "language_info": {
   "codemirror_mode": {
    "name": "ipython",
    "version": 3
   },
   "file_extension": ".py",
   "mimetype": "text/x-python",
   "name": "python",
   "nbconvert_exporter": "python",
   "pygments_lexer": "ipython3",
   "version": "3.10.8"
  }
 },
 "nbformat": 4,
 "nbformat_minor": 5
}
