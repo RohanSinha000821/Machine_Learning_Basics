{
 "cells": [
  {
   "cell_type": "code",
   "execution_count": 7,
   "id": "c68e0047",
   "metadata": {},
   "outputs": [],
   "source": [
    "import numpy as np"
   ]
  },
  {
   "cell_type": "code",
   "execution_count": 8,
   "id": "88ade61d",
   "metadata": {},
   "outputs": [
    {
     "data": {
      "text/plain": [
       "array([0, 1, 2, 3, 4, 5, 6, 7, 8, 9])"
      ]
     },
     "execution_count": 8,
     "metadata": {},
     "output_type": "execute_result"
    }
   ],
   "source": [
    "arr = np.arange(0,10)\n",
    "arr"
   ]
  },
  {
   "cell_type": "code",
   "execution_count": 9,
   "id": "c38cf5be",
   "metadata": {},
   "outputs": [
    {
     "name": "stdout",
     "output_type": "stream",
     "text": [
      "[ 2  3  4  5  6  7  8  9 10 11]\n",
      "[-5 -4 -3 -2 -1  0  1  2  3  4]\n",
      "[ 0  2  4  6  8 10 12 14 16 18]\n",
      "[ 0  1  4  9 16 25 36 49 64 81]\n",
      "[0 0 0 0 0 0 0 0 0 0]\n"
     ]
    }
   ],
   "source": [
    "# Arithematic operations \n",
    "# all operations are element by element\n",
    "print(arr+2)\n",
    "print(arr-5)\n",
    "print(arr+arr)\n",
    "print(arr*arr)\n",
    "print(arr-arr)\n"
   ]
  },
  {
   "cell_type": "code",
   "execution_count": 10,
   "id": "90bd56f8",
   "metadata": {},
   "outputs": [
    {
     "data": {
      "text/plain": [
       "array([0, 1, 2, 3, 4, 5, 6, 7, 8, 9])"
      ]
     },
     "execution_count": 10,
     "metadata": {},
     "output_type": "execute_result"
    }
   ],
   "source": [
    "arr"
   ]
  },
  {
   "cell_type": "code",
   "execution_count": 11,
   "id": "65531829",
   "metadata": {},
   "outputs": [
    {
     "name": "stderr",
     "output_type": "stream",
     "text": [
      "C:\\Users\\ASUS\\AppData\\Local\\Temp\\ipykernel_12388\\2367641627.py:2: RuntimeWarning: invalid value encountered in divide\n",
      "  arr/arr\n"
     ]
    },
    {
     "data": {
      "text/plain": [
       "array([nan,  1.,  1.,  1.,  1.,  1.,  1.,  1.,  1.,  1.])"
      ]
     },
     "execution_count": 11,
     "metadata": {},
     "output_type": "execute_result"
    }
   ],
   "source": [
    "# handles division by zero by giving warning not direct error \n",
    "arr/arr"
   ]
  },
  {
   "cell_type": "code",
   "execution_count": 12,
   "id": "bd11632d",
   "metadata": {},
   "outputs": [
    {
     "ename": "ZeroDivisionError",
     "evalue": "division by zero",
     "output_type": "error",
     "traceback": [
      "\u001b[1;31m---------------------------------------------------------------------------\u001b[0m",
      "\u001b[1;31mZeroDivisionError\u001b[0m                         Traceback (most recent call last)",
      "Cell \u001b[1;32mIn [12], line 1\u001b[0m\n\u001b[1;32m----> 1\u001b[0m \u001b[38;5;241;43m1\u001b[39;49m\u001b[38;5;241;43m/\u001b[39;49m\u001b[38;5;241;43m0\u001b[39;49m\n",
      "\u001b[1;31mZeroDivisionError\u001b[0m: division by zero"
     ]
    }
   ],
   "source": [
    "1/0"
   ]
  },
  {
   "cell_type": "code",
   "execution_count": 13,
   "id": "c871204a",
   "metadata": {},
   "outputs": [
    {
     "name": "stderr",
     "output_type": "stream",
     "text": [
      "C:\\Users\\ASUS\\AppData\\Local\\Temp\\ipykernel_12388\\255282349.py:1: RuntimeWarning: divide by zero encountered in divide\n",
      "  1/arr\n"
     ]
    },
    {
     "data": {
      "text/plain": [
       "array([       inf, 1.        , 0.5       , 0.33333333, 0.25      ,\n",
       "       0.2       , 0.16666667, 0.14285714, 0.125     , 0.11111111])"
      ]
     },
     "execution_count": 13,
     "metadata": {},
     "output_type": "execute_result"
    }
   ],
   "source": [
    "1/arr"
   ]
  },
  {
   "cell_type": "code",
   "execution_count": 15,
   "id": "505ef94a",
   "metadata": {},
   "outputs": [
    {
     "name": "stdout",
     "output_type": "stream",
     "text": [
      "[0.         1.         1.41421356 1.73205081 2.         2.23606798\n",
      " 2.44948974 2.64575131 2.82842712 3.        ]\n",
      "\n",
      "[ 0.          0.84147098  0.90929743  0.14112001 -0.7568025  -0.95892427\n",
      " -0.2794155   0.6569866   0.98935825  0.41211849]\n",
      "\n",
      "[      -inf 0.         0.69314718 1.09861229 1.38629436 1.60943791\n",
      " 1.79175947 1.94591015 2.07944154 2.19722458]\n"
     ]
    },
    {
     "name": "stderr",
     "output_type": "stream",
     "text": [
      "C:\\Users\\ASUS\\AppData\\Local\\Temp\\ipykernel_12388\\184357395.py:5: RuntimeWarning: divide by zero encountered in log\n",
      "  print(np.log(arr))\n"
     ]
    }
   ],
   "source": [
    "print(np.sqrt(arr))\n",
    "print()\n",
    "print(np.sin(arr))\n",
    "print()\n",
    "print(np.log(arr))"
   ]
  },
  {
   "cell_type": "code",
   "execution_count": 16,
   "id": "355c0600",
   "metadata": {},
   "outputs": [
    {
     "name": "stdout",
     "output_type": "stream",
     "text": [
      "45\n",
      "9\n",
      "4.5\n",
      "8.25\n",
      "2.8722813232690143\n"
     ]
    }
   ],
   "source": [
    "print(arr.sum())\n",
    "print(arr.max())\n",
    "print(arr.mean())\n",
    "print(arr.var())\n",
    "print(arr.std())"
   ]
  },
  {
   "cell_type": "code",
   "execution_count": 18,
   "id": "20b049c7",
   "metadata": {},
   "outputs": [
    {
     "data": {
      "text/plain": [
       "array([[ 0,  1,  2,  3,  4],\n",
       "       [ 5,  6,  7,  8,  9],\n",
       "       [10, 11, 12, 13, 14],\n",
       "       [15, 16, 17, 18, 19],\n",
       "       [20, 21, 22, 23, 24]])"
      ]
     },
     "execution_count": 18,
     "metadata": {},
     "output_type": "execute_result"
    }
   ],
   "source": [
    "arr_2d = np.arange(0,25).reshape(5,5)\n",
    "arr_2d\n"
   ]
  },
  {
   "cell_type": "code",
   "execution_count": 19,
   "id": "13fc9fdc",
   "metadata": {},
   "outputs": [
    {
     "name": "stdout",
     "output_type": "stream",
     "text": [
      "300\n",
      "[50 55 60 65 70]\n",
      "[ 10  35  60  85 110]\n"
     ]
    }
   ],
   "source": [
    "print(arr_2d.sum())\n",
    "print(arr_2d.sum(axis = 0)) # perform sum across the rows --> sum of columnns as each element\n",
    "print(arr_2d.sum(axis = 1)) # perform sum across the colums --> sum of rows as each element\n"
   ]
  },
  {
   "cell_type": "code",
   "execution_count": null,
   "id": "dfe1383a",
   "metadata": {},
   "outputs": [],
   "source": []
  }
 ],
 "metadata": {
  "kernelspec": {
   "display_name": "Python 3 (ipykernel)",
   "language": "python",
   "name": "python3"
  },
  "language_info": {
   "codemirror_mode": {
    "name": "ipython",
    "version": 3
   },
   "file_extension": ".py",
   "mimetype": "text/x-python",
   "name": "python",
   "nbconvert_exporter": "python",
   "pygments_lexer": "ipython3",
   "version": "3.10.8"
  }
 },
 "nbformat": 4,
 "nbformat_minor": 5
}
